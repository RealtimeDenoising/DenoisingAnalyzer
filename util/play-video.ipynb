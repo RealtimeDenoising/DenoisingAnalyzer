{
 "cells": [
  {
   "cell_type": "code",
   "execution_count": 1,
   "metadata": {
    "scrolled": false
   },
   "outputs": [
    {
     "name": "stderr",
     "output_type": "stream",
     "text": [
      "usage: ipykernel_launcher.py [-h] [--ref REF] [--tar TAR] [-f F]\n",
      "ipykernel_launcher.py: error: unrecognized arguments: --ip=127.0.0.1 --stdin=9040 --control=9038 --hb=9037 --Session.signature_scheme=\"hmac-sha256\" --Session.key=b\"8fd60c5b-2c23-4f41-9c14-54671d348be9\" --shell=9039 --transport=\"tcp\" --iopub=9041 --f=/home/altanai/.local/share/jupyter/runtime/kernel-v2-4753gxRCaz8gQun3.json\n"
     ]
    },
    {
     "ename": "SystemExit",
     "evalue": "2",
     "output_type": "error",
     "traceback": [
      "An exception has occurred, use %tb to see the full traceback.\n",
      "\u001b[0;31mSystemExit\u001b[0m\u001b[0;31m:\u001b[0m 2\n"
     ]
    },
    {
     "name": "stderr",
     "output_type": "stream",
     "text": [
      "/home/altanai/.local/lib/python3.6/site-packages/IPython/core/interactiveshell.py:3351: UserWarning: To exit: use 'exit', 'quit', or Ctrl-D.\n",
      "  warn(\"To exit: use 'exit', 'quit', or Ctrl-D.\", stacklevel=1)\n"
     ]
    }
   ],
   "source": [
    "import argparse\n",
    "\n",
    "parser = argparse.ArgumentParser(description='Render two videos.')\n",
    "parser.add_argument('--ref', type=str, default='input.mp4', help='Reference video file')\n",
    "parser.add_argument('--tar', type=str, default='output.mp4', help='Target video file')\n",
    "parser.add_argument('-f', type=str)\n",
    "\n",
    "args = parser.parse_args()\n",
    "\n",
    "html=\"\"\"\n",
    "<html>\n",
    "<style>\n",
    ".controls {\n",
    "    margin: 0;\n",
    "    position: absolute;\n",
    "    top: 50%%;\n",
    "    left: 100%%;\n",
    "    -ms-transform: translate(-100%%, -50%%);\n",
    "    transform: translate(-100%%, -50%%);\n",
    "}\n",
    "button {\n",
    "    display: block;\n",
    "    padding: 5px 16px;\n",
    "    border-radius: 3px;\n",
    "    cursor: pointer;\n",
    "    background-color: white;\n",
    "    border-color: navy;\n",
    "    width: 100px;\n",
    "}\n",
    "</style>\n",
    "\n",
    "<div>\n",
    "<video muted loop controls id='video-ref'>\n",
    "  <source src=\"%s\" type=\"video/mp4\">\n",
    "</video>\n",
    "</div>\n",
    "<div class='controls'>\n",
    "  <button id='button-play'>Pause</button>\n",
    "  <button id='button-sync'>Sync</button>\n",
    "</div>\n",
    "<div>\n",
    "<video muted loop controls id='video-target'>\n",
    "  <source src=\"%s\" type=\"video/mp4\">\n",
    "</video>\n",
    "</div>\n",
    "\n",
    "<script>\n",
    "    var v1 = document.querySelector('#video-ref');\n",
    "    var v2 = document.querySelector('#video-target');\n",
    "    function seek(sec) {\n",
    "      v1.currentTime = sec;\n",
    "      v2.currentTime = sec;\n",
    "    }\n",
    "    document.querySelector('#button-sync').addEventListener('click', (e)=>{\n",
    "        seek(v1.currentTime);\n",
    "    });\n",
    "    document.querySelector('#button-play').addEventListener('click', (e)=>{\n",
    "        if (e.target.textContent == 'Pause') {\n",
    "            e.target.textContent = 'Resume';\n",
    "            v1.pause();\n",
    "            v2.pause();\n",
    "        } else {\n",
    "            e.target.textContent = 'Pause';\n",
    "            v1.play();\n",
    "            v2.play();\n",
    "        }\n",
    "    });\n",
    "    v1.play();\n",
    "    v2.play();\n",
    "</script>\n",
    "</html>\"\"\" % (args.ref, args.tar)\n",
    "\n",
    "from IPython.display import HTML"
   ]
  }
 ],
 "metadata": {
  "kernelspec": {
   "display_name": "Python 3.6.9 64-bit",
   "language": "python",
   "name": "python3"
  },
  "language_info": {
   "codemirror_mode": {
    "name": "ipython",
    "version": 3
   },
   "file_extension": ".py",
   "mimetype": "text/x-python",
   "name": "python",
   "nbconvert_exporter": "python",
   "pygments_lexer": "ipython3",
   "version": "3.6.9"
  },
  "vscode": {
   "interpreter": {
    "hash": "31f2aee4e71d21fbe5cf8b01ff0e069b9275f58929596ceb00d14d90e3e16cd6"
   }
  }
 },
 "nbformat": 4,
 "nbformat_minor": 4
}
