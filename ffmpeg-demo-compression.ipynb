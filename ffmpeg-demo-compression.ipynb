{
 "cells": [
  {
   "cell_type": "markdown",
   "metadata": {},
   "source": [
    "# FFmpeg demo: video encoding"
   ]
  },
  {
   "cell_type": "code",
   "execution_count": 1,
   "metadata": {},
   "outputs": [
    {
     "name": "stdout",
     "output_type": "stream",
     "text": [
      "/usr/bin/ffmpeg\n",
      "Done!\n"
     ]
    }
   ],
   "source": [
    "# Download a static FFmpeg build and add it to PATH.\n",
    "%run 'util/load-ffmpeg.ipynb'\n",
    "print('Done!')"
   ]
  },
  {
   "cell_type": "code",
   "execution_count": 2,
   "metadata": {
    "scrolled": false
   },
   "outputs": [
    {
     "name": "stdout",
     "output_type": "stream",
     "text": [
      "Input #0, mov,mp4,m4a,3gp,3g2,mj2, from 'input.mp4':\n",
      "  Metadata:\n",
      "    major_brand     : isom\n",
      "    minor_version   : 512\n",
      "    compatible_brands: isomiso2avc1mp41\n",
      "    encoder         : Lavf58.29.100\n",
      "  Duration: 00:00:10.02, start: 0.000000, bitrate: 2018 kb/s\n",
      "    Stream #0:0(und): Video: h264 (High) (avc1 / 0x31637661), yuv420p, 864x360 [SAR 1:1 DAR 12:5], 1885 kb/s, 24 fps, 24 tbr, 12288 tbn, 48 tbc (default)\n",
      "    Metadata:\n",
      "      handler_name    : VideoHandler\n",
      "    Stream #0:1(und): Audio: aac (LC) (mp4a / 0x6134706D), 48000 Hz, stereo, fltp, 128 kb/s (default)\n",
      "    Metadata:\n",
      "      handler_name    : SoundHandler\n",
      "Done!\n"
     ]
    }
   ],
   "source": [
    "# [optional] Print input video information. You can upload another video file and change the file name below.\n",
    "!ffprobe -hide_banner input.mp4\n",
    "print('Done!')"
   ]
  },
  {
   "cell_type": "code",
   "execution_count": 3,
   "metadata": {
    "scrolled": false
   },
   "outputs": [
    {
     "name": "stdout",
     "output_type": "stream",
     "text": [
      "Input #0, mov,mp4,m4a,3gp,3g2,mj2, from 'input.mp4':\n",
      "  Metadata:\n",
      "    major_brand     : isom\n",
      "    minor_version   : 512\n",
      "    compatible_brands: isomiso2avc1mp41\n",
      "    encoder         : Lavf58.29.100\n",
      "  Duration: 00:00:10.02, start: 0.000000, bitrate: 2018 kb/s\n",
      "    Stream #0:0(und): Video: h264 (High) (avc1 / 0x31637661), yuv420p, 864x360 [SAR 1:1 DAR 12:5], 1885 kb/s, 24 fps, 24 tbr, 12288 tbn, 48 tbc (default)\n",
      "    Metadata:\n",
      "      handler_name    : VideoHandler\n",
      "    Stream #0:1(und): Audio: aac (LC) (mp4a / 0x6134706D), 48000 Hz, stereo, fltp, 128 kb/s (default)\n",
      "    Metadata:\n",
      "      handler_name    : SoundHandler\n",
      "Stream mapping:\n",
      "  Stream #0:0 -> #0:0 (h264 (native) -> h264 (libx264))\n",
      "  Stream #0:1 -> #0:1 (aac (native) -> aac (native))\n",
      "Press [q] to stop, [?] for help\n",
      "\u001b[1;36m[libx264 @ 0x558dadbf2de0] \u001b[0musing SAR=1/1\n",
      "\u001b[1;36m[libx264 @ 0x558dadbf2de0] \u001b[0musing cpu capabilities: MMX2 SSE2Fast SSSE3 SSE4.2 AVX FMA3 BMI2 AVX2\n",
      "\u001b[1;36m[libx264 @ 0x558dadbf2de0] \u001b[0mprofile High, level 3.0\n",
      "\u001b[1;36m[libx264 @ 0x558dadbf2de0] \u001b[0m264 - core 152 r2854 e9a5903 - H.264/MPEG-4 AVC codec - Copyleft 2003-2017 - http://www.videolan.org/x264.html - options: cabac=1 ref=3 deblock=1:0:0 analyse=0x3:0x113 me=hex subme=7 psy=1 psy_rd=1.00:0.00 mixed_ref=1 me_range=16 chroma_me=1 trellis=1 8x8dct=1 cqm=0 deadzone=21,11 fast_pskip=1 chroma_qp_offset=-2 threads=6 lookahead_threads=1 sliced_threads=0 nr=0 decimate=1 interlaced=0 bluray_compat=0 constrained_intra=0 bframes=3 b_pyramid=2 b_adapt=1 b_bias=0 direct=1 weightb=1 open_gop=0 weightp=2 keyint=250 keyint_min=24 scenecut=40 intra_refresh=0 rc_lookahead=40 rc=abr mbtree=1 bitrate=200 ratetol=1.0 qcomp=0.60 qpmin=0 qpmax=69 qpstep=4 ip_ratio=1.40 aq=1:1.00\n",
      "Output #0, mp4, to 'output.mp4':\n",
      "  Metadata:\n",
      "    major_brand     : isom\n",
      "    minor_version   : 512\n",
      "    compatible_brands: isomiso2avc1mp41\n",
      "    encoder         : Lavf57.83.100\n",
      "    Stream #0:0(und): Video: h264 (libx264) (avc1 / 0x31637661), yuv420p, 864x360 [SAR 1:1 DAR 12:5], q=-1--1, 200 kb/s, 24 fps, 12288 tbn, 24 tbc (default)\n",
      "    Metadata:\n",
      "      handler_name    : VideoHandler\n",
      "      encoder         : Lavc57.107.100 libx264\n",
      "    Side data:\n",
      "      cpb: bitrate max/min/avg: 0/0/200000 buffer size: 0 vbv_delay: -1\n",
      "    Stream #0:1(und): Audio: aac (LC) (mp4a / 0x6134706D), 48000 Hz, stereo, fltp, 128 kb/s (default)\n",
      "    Metadata:\n",
      "      handler_name    : SoundHandler\n",
      "      encoder         : Lavc57.107.100 aac\n",
      "frame=  240 fps= 77 q=-1.0 Lsize=     414kB time=00:00:10.00 bitrate= 338.6kbits/s speed=3.21x    \n",
      "video:246kB audio:156kB subtitle:0kB other streams:0kB global headers:0kB muxing overhead: 2.697957%\n",
      "\u001b[1;36m[libx264 @ 0x558dadbf2de0] \u001b[0mframe I:3     Avg QP:31.29  size: 20945\n",
      "\u001b[1;36m[libx264 @ 0x558dadbf2de0] \u001b[0mframe P:67    Avg QP:33.69  size:  2016\n",
      "\u001b[1;36m[libx264 @ 0x558dadbf2de0] \u001b[0mframe B:170   Avg QP:38.65  size:   315\n",
      "\u001b[1;36m[libx264 @ 0x558dadbf2de0] \u001b[0mconsecutive B-frames:  2.5%  8.3%  2.5% 86.7%\n",
      "\u001b[1;36m[libx264 @ 0x558dadbf2de0] \u001b[0mmb I  I16..4: 11.3% 63.3% 25.5%\n",
      "\u001b[1;36m[libx264 @ 0x558dadbf2de0] \u001b[0mmb P  I16..4:  0.6%  1.5%  0.3%  P16..4: 28.9%  6.3%  3.9%  0.0%  0.0%    skip:58.5%\n",
      "\u001b[1;36m[libx264 @ 0x558dadbf2de0] \u001b[0mmb B  I16..4:  0.0%  0.0%  0.0%  B16..8: 27.2%  0.3%  0.0%  direct: 0.0%  skip:72.4%  L0:40.6% L1:59.1% BI: 0.3%\n",
      "\u001b[1;36m[libx264 @ 0x558dadbf2de0] \u001b[0mfinal ratefactor: 33.22\n",
      "\u001b[1;36m[libx264 @ 0x558dadbf2de0] \u001b[0m8x8 transform intra:63.7% inter:73.4%\n",
      "\u001b[1;36m[libx264 @ 0x558dadbf2de0] \u001b[0mcoded y,uvDC,uvAC intra: 57.6% 56.4% 22.4% inter: 2.7% 1.9% 0.0%\n",
      "\u001b[1;36m[libx264 @ 0x558dadbf2de0] \u001b[0mi16 v,h,dc,p: 56% 14%  9% 21%\n",
      "\u001b[1;36m[libx264 @ 0x558dadbf2de0] \u001b[0mi8 v,h,dc,ddl,ddr,vr,hd,vl,hu: 33% 13% 18%  5%  6%  8%  5%  8%  6%\n",
      "\u001b[1;36m[libx264 @ 0x558dadbf2de0] \u001b[0mi4 v,h,dc,ddl,ddr,vr,hd,vl,hu: 30% 20% 12%  6%  6%  6%  7%  6%  7%\n",
      "\u001b[1;36m[libx264 @ 0x558dadbf2de0] \u001b[0mi8c dc,h,v,p: 60% 13% 24%  3%\n",
      "\u001b[1;36m[libx264 @ 0x558dadbf2de0] \u001b[0mWeighted P-Frames: Y:0.0% UV:0.0%\n",
      "\u001b[1;36m[libx264 @ 0x558dadbf2de0] \u001b[0mref P L0: 63.9% 20.8% 10.9%  4.4%\n",
      "\u001b[1;36m[libx264 @ 0x558dadbf2de0] \u001b[0mref B L0: 94.7%  4.3%  1.0%\n",
      "\u001b[1;36m[libx264 @ 0x558dadbf2de0] \u001b[0mref B L1: 97.7%  2.3%\n",
      "\u001b[1;36m[libx264 @ 0x558dadbf2de0] \u001b[0mkb/s:201.21\n",
      "\u001b[1;36m[aac @ 0x558dadbbbd40] \u001b[0mQavg: 240.876\n",
      "Done!\n"
     ]
    }
   ],
   "source": [
    "# Compress input.mp4 to a target bitrate and save as output.mp4. \n",
    "# Change the command line flags as you need for different encoding settings.\n",
    "\n",
    "!ffmpeg -hide_banner -i input.mp4 -b:v 200k -y output.mp4\n",
    "print('Done!')"
   ]
  },
  {
   "cell_type": "code",
   "execution_count": 6,
   "metadata": {},
   "outputs": [
    {
     "name": "stderr",
     "output_type": "stream",
     "text": [
      "usage: ipykernel_launcher.py [-h] [--ref REF] [--tar TAR] [-f F]\n",
      "ipykernel_launcher.py: error: unrecognized arguments: --ip=127.0.0.1 --stdin=9027 --control=9025 --hb=9024 --Session.signature_scheme=\"hmac-sha256\" --Session.key=b\"89d7e2a2-83b1-4e60-abae-675c907f97a9\" --shell=9026 --transport=\"tcp\" --iopub=9028 --f=/home/altanai/.local/share/jupyter/runtime/kernel-v2-475316kLsV660StY.json\n"
     ]
    },
    {
     "ename": "SystemExit",
     "evalue": "2",
     "output_type": "error",
     "traceback": [
      "An exception has occurred, use %tb to see the full traceback.\n",
      "\u001b[0;31mSystemExit\u001b[0m\u001b[0;31m:\u001b[0m 2\n"
     ]
    },
    {
     "ename": "SystemExit",
     "evalue": "2",
     "output_type": "error",
     "traceback": [
      "An exception has occurred, use %tb to see the full traceback.\n",
      "\u001b[0;31mSystemExit\u001b[0m\u001b[0;31m:\u001b[0m 2\n"
     ]
    }
   ],
   "source": [
    "# Display both the source (top) video and encoded (bottom) video.\n",
    "# Sometimes the two players get out of sync. Press \"sync\" to mitigate that.\n",
    "\n",
    "%run util/play-video.ipynb --ref input.mp4 --tar output.mp4\n",
    "HTML(html)"
   ]
  },
  {
   "cell_type": "code",
   "execution_count": 5,
   "metadata": {},
   "outputs": [
    {
     "name": "stdout",
     "output_type": "stream",
     "text": [
      "[Parsed_psnr_0 @ 0x55f2e5454680] PSNR y:33.128716 u:40.403171 v:42.152063 average:34.562913 min:32.222793 max:38.956260\n",
      "[Parsed_ssim_0 @ 0x560b44c556e0] SSIM Y:0.922929 (11.131077) U:0.940315 (12.241332) V:0.958760 (13.846825) All:0.931798 (11.662052)\n",
      "VMAF calculation failed!\n",
      "Done!\n"
     ]
    }
   ],
   "source": [
    "# Calculate PSNR between input.mp4 and output.mp4\n",
    "!ffmpeg -hide_banner -i output.mp4 -i input.mp4 -lavfi psnr -f null - 2>&1 | grep \"Parsed_psnr_0\"\n",
    "\n",
    "# Calculate SSIM between input.mp4 and output.mp4\n",
    "!ffmpeg -hide_banner -i output.mp4 -i input.mp4 -lavfi ssim -f null - 2>&1 | grep \"Parsed_ssim_0\"\n",
    "\n",
    "# Calculate VMAF between input.mp4 (ref) and output.mp4 (target).\n",
    "!ffmpeg -hide_banner -i output.mp4 -i input.mp4 \\\n",
    "  -lavfi \"libvmaf=model_path={ffmdir[0]}/model/vmaf_v0.6.1.pkl\" -f null - 2>&1 | grep 'VMAF' \\\n",
    "  || echo 'VMAF calculation failed!'\n",
    "\n",
    "print('Done!')"
   ]
  },
  {
   "cell_type": "code",
   "execution_count": null,
   "metadata": {},
   "outputs": [],
   "source": []
  }
 ],
 "metadata": {
  "kernelspec": {
   "display_name": "Python 3.6.9 64-bit",
   "language": "python",
   "name": "python3"
  },
  "language_info": {
   "codemirror_mode": {
    "name": "ipython",
    "version": 3
   },
   "file_extension": ".py",
   "mimetype": "text/x-python",
   "name": "python",
   "nbconvert_exporter": "python",
   "pygments_lexer": "ipython3",
   "version": "3.6.9"
  },
  "vscode": {
   "interpreter": {
    "hash": "31f2aee4e71d21fbe5cf8b01ff0e069b9275f58929596ceb00d14d90e3e16cd6"
   }
  }
 },
 "nbformat": 4,
 "nbformat_minor": 4
}
